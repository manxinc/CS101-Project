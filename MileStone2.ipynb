{
 "cells": [
  {
   "cell_type": "markdown",
   "id": "31b61967",
   "metadata": {},
   "source": [
    "# Milestone 1\n",
    "Note: pleas test your code according to the example on the website: https://relate.cs.illinois.edu/course/cs101-fa21/page/ms1/"
   ]
  },
  {
   "cell_type": "markdown",
   "id": "8ae27706",
   "metadata": {},
   "source": [
    "#### Testing Code (Ignore)"
   ]
  },
  {
   "cell_type": "code",
   "execution_count": 1,
   "id": "c95af6bb",
   "metadata": {},
   "outputs": [],
   "source": [
    "def test(test_cases, fn):\n",
    "    if all(\n",
    "        (fn(*args) if isinstance(args, tuple) else fn(args)) == value\n",
    "        for args, value in test_cases.items()\n",
    "    ):\n",
    "        print(\"Success!\")\n",
    "    else:\n",
    "        print(\"Fail.\")"
   ]
  },
  {
   "cell_type": "markdown",
   "id": "f49434a3",
   "metadata": {},
   "source": [
    "### Function 1: s(dna)\n",
    "This function should accept as argument a string representing a DNA sequence and return a list or tuple of four integers representing the number of times each nucleotide A, C, G, or T occur in the DNA string, in that order."
   ]
  },
  {
   "cell_type": "code",
   "execution_count": 2,
   "id": "5c25fce1",
   "metadata": {},
   "outputs": [],
   "source": [
    "def s(dna):\n",
    "    Dict = {}\n",
    "    count_A = count_C = count_G = count_T = 0\n",
    "    dna = dna.upper()\n",
    "    for i in dna:\n",
    "        if i == 'A':\n",
    "            count_A += 1\n",
    "            Dict['A'] = count_A\n",
    "        elif i == 'C':\n",
    "            count_C += 1\n",
    "            Dict['C'] = count_C\n",
    "        elif i == 'G':\n",
    "            count_G += 1\n",
    "            Dict['G'] = count_G\n",
    "        elif i == 'T':\n",
    "            count_T += 1\n",
    "            Dict['T'] = count_T\n",
    "        \n",
    "    return Dict"
   ]
  },
  {
   "cell_type": "markdown",
   "id": "1ac93609",
   "metadata": {},
   "source": [
    "#### TEST the function"
   ]
  },
  {
   "cell_type": "code",
   "execution_count": 3,
   "id": "cb670392",
   "metadata": {},
   "outputs": [
    {
     "name": "stdout",
     "output_type": "stream",
     "text": [
      "Success!\n"
     ]
    }
   ],
   "source": [
    "test({\"AGCTTTTCATTCTGACTGCAACGGGCAATATGTCTCTGTGTGGATTAAAAAAAGAGTGTCTGATAGCAGC\":{'A': 20, 'C': 12, 'G': 17, 'T': 21},},s)\n",
    "\n",
    "#if s(dna) == {'A': 20, 'C': 12, 'G': 17, 'T': 21}:\n",
    "    #print('success!')"
   ]
  },
  {
   "cell_type": "markdown",
   "id": "8ff2bfb3",
   "metadata": {},
   "source": [
    "### Function 2: dna2rna(dna)\n",
    "This function should accept a string representing a DNA sequence and return the transcribed RNA string. DNA sequences are transcribed to RNA sequences by replacing all occurrences of the \"T\" nucleotides with \"U\"."
   ]
  },
  {
   "cell_type": "code",
   "execution_count": 4,
   "id": "2f3a41fe",
   "metadata": {},
   "outputs": [],
   "source": [
    "def dna2rna(dna):\n",
    "    rna = ''\n",
    "    for letter in dna:\n",
    "        if letter == 'T':\n",
    "            rna += 'U'\n",
    "        else:\n",
    "            rna += letter\n",
    "    return rna"
   ]
  },
  {
   "cell_type": "markdown",
   "id": "0e6d891d",
   "metadata": {},
   "source": [
    "#### TEST the function"
   ]
  },
  {
   "cell_type": "code",
   "execution_count": 5,
   "id": "b8788f81",
   "metadata": {},
   "outputs": [
    {
     "name": "stdout",
     "output_type": "stream",
     "text": [
      "Success!\n"
     ]
    }
   ],
   "source": [
    "test_cases = {\"GATGGAACTTGACTACGTAAATT\": \"GAUGGAACUUGACUACGUAAAUU\"}\n",
    "test(test_cases,dna2rna)"
   ]
  },
  {
   "cell_type": "markdown",
   "id": "0bb9ce0d",
   "metadata": {},
   "source": [
    "### Function 3: reverse_complement(dna)\n",
    "This function should accept a string representing a DNA sequence and return the reverse complement as a new string. The reverse complement of a DNA string is formed by reversing the entire string, and then taking the complement of each nucleotide."
   ]
  },
  {
   "cell_type": "code",
   "execution_count": 6,
   "id": "fede6bb9",
   "metadata": {},
   "outputs": [],
   "source": [
    "def reverse_complement(dna):\n",
    "    reverse = ''\n",
    "    for i in dna:\n",
    "        if i == 'A':\n",
    "            i = 'T'\n",
    "        elif i == 'T':\n",
    "            i = 'A'\n",
    "        elif i == 'C':\n",
    "            i = 'G'\n",
    "        elif i == 'G':\n",
    "            i = 'C'\n",
    "        reverse = i + reverse\n",
    "    return reverse"
   ]
  },
  {
   "cell_type": "markdown",
   "id": "e43232c4",
   "metadata": {},
   "source": [
    "#### TEST the function"
   ]
  },
  {
   "cell_type": "code",
   "execution_count": 7,
   "id": "16364649",
   "metadata": {},
   "outputs": [
    {
     "name": "stdout",
     "output_type": "stream",
     "text": [
      "Success!\n"
     ]
    }
   ],
   "source": [
    "test_cases={\"AAAACCCGGT\":\"ACCGGGTTTT\"}\n",
    "test(test_cases,reverse_complement)"
   ]
  },
  {
   "cell_type": "markdown",
   "id": "6aa4d600",
   "metadata": {},
   "source": [
    "### Function 4: mendels_law(hom, het, rec)\n",
    "Gregor Mendel's laws of inheritance state that organisms possess a pair of alleles for a given trait. If those two alleles are the same, then it is called homozygous; if they are different, it is heterozygous. For a given trait, are two possible alleles: dominant and recessive. Only one dominant allele is necessary for the trait to be expressed."
   ]
  },
  {
   "cell_type": "code",
   "execution_count": 8,
   "id": "fd924ef8",
   "metadata": {},
   "outputs": [],
   "source": [
    "def mendels_law(hom,het,rec):\n",
    "    sum = hom + het + rec\n",
    "    reces = (rec/sum)*((rec-1)/(sum-1))\n",
    "    heter = (het/sum)*(het-1)/(sum-1)\n",
    "    heter_reces = (rec/sum)*(het/(sum-1))+(het/sum)*(rec/(sum-1))\n",
    "    result = 1 - (reces + heter * 1/4+ heter_reces * 1/2 )\n",
    "    return result"
   ]
  },
  {
   "cell_type": "markdown",
   "id": "217bfbb9",
   "metadata": {},
   "source": [
    "#### TEST the function"
   ]
  },
  {
   "cell_type": "code",
   "execution_count": 9,
   "id": "214c78af",
   "metadata": {},
   "outputs": [
    {
     "name": "stdout",
     "output_type": "stream",
     "text": [
      "Success!\n"
     ]
    }
   ],
   "source": [
    "def mendels_law_test(hom,het,rec):\n",
    "    return round(mendels_law(hom,het,rec),5)\n",
    "    \n",
    "test_cases={(2,2,2):0.78333, (1,1,0):1.0, (4,0,2):0.93333, (0,4,0):0.75}\n",
    "test(test_cases,mendels_law_test)"
   ]
  },
  {
   "cell_type": "markdown",
   "id": "2a1f20ea",
   "metadata": {},
   "source": [
    "### Function 5: fibonacci_rabbits(n,k)\n",
    "This function should accept two integers n and k, and calculate the total number of rabbit pairs that will be present after n months, given that every pair of mating rabbits produces k rabbit pairs in their next litter (in the next month).  \n",
    "$$ F_n=F_{n-1}+F_{n-2}$$  \n",
    "more detailed explanation on course websit (Milestone1)"
   ]
  },
  {
   "cell_type": "code",
   "execution_count": 10,
   "id": "bed4cdb2",
   "metadata": {},
   "outputs": [],
   "source": [
    "def fibonacci_rabbits(n, k):\n",
    "    f_1, f_2 = 1, 1\n",
    "    for i in range(n - 1):\n",
    "        f_2, f_1 = f_1, f_1 + (f_2 * k)\n",
    "    return f_2"
   ]
  },
  {
   "cell_type": "markdown",
   "id": "38006a7b",
   "metadata": {},
   "source": [
    "#### TEST the function"
   ]
  },
  {
   "cell_type": "code",
   "execution_count": 11,
   "id": "fb6a48b6",
   "metadata": {},
   "outputs": [
    {
     "name": "stdout",
     "output_type": "stream",
     "text": [
      "Success!\n"
     ]
    }
   ],
   "source": [
    "test(\n",
    "    {\n",
    "        (1,3): 1,\n",
    "        (2,3): 1,\n",
    "        (3,3): 4,\n",
    "        (4,3): 7,\n",
    "        (5,3): 19,\n",
    "        (6,3): 40,\n",
    "    },\n",
    "    fibonacci_rabbits\n",
    ")"
   ]
  },
  {
   "cell_type": "markdown",
   "id": "b41ea92b",
   "metadata": {},
   "source": [
    "### Function 6: gc_content(dna_list)\n",
    "This function should accept a list of DNA strings, and return the index of the DNA string with the highest GC-content and its GC-content percentage as a tuple. The GC-content of a DNA string is the percentage of nucleotides in the string that are \"C\" or \"G\"."
   ]
  },
  {
   "cell_type": "code",
   "execution_count": 12,
   "id": "f5683ef6",
   "metadata": {},
   "outputs": [],
   "source": [
    "def GC_content(dna_list):\n",
    "    stats = [(seq.count('C')+seq.count('G'))/len(seq) for seq in dna_list]\n",
    "    index = max(range(len(stats)), key = lambda i:stats[i])\n",
    "    return (index, 100*stats[index])\n"
   ]
  },
  {
   "cell_type": "code",
   "execution_count": 13,
   "id": "d32c8720",
   "metadata": {},
   "outputs": [
    {
     "name": "stdout",
     "output_type": "stream",
     "text": [
      "Success!\n"
     ]
    }
   ],
   "source": [
    "test_cases = {((\"CCTGCGGAAGATCGGCACTAGAATAGCCAGAACCGTTTCTCTGAGGCTTCCGGCCTTCCCTCCCACTAATAATTCTGAGG\",\n",
    " \"CCATCGGTAGCGCATCCTTAGTCCAATTAAGTCCCTATCCAGGCGCTCCGCCGAAGGTCTATATCCATTTGTCAGCAGACACGC\",\n",
    " \"CCACCCTCGTGGTATGGCTAGGCATTCAGGAACCGGAGAACGCTTCAGACCAGCCCGGACTGGGAACCTGCGGGCAGTAGGTGGAAT\"),):(2, 60.919540)}\n",
    "def gc_content_test(x):\n",
    "    return (GC_content(x)[0], round((GC_content)(x)[1],6))\n",
    "\n",
    "test(test_cases,gc_content_test)"
   ]
  },
  {
   "cell_type": "markdown",
   "id": "f67f6751",
   "metadata": {},
   "source": [
    "### Function 7: rna2codon(rna)\n",
    "This function should accept a string representing an RNA sequence, and return the corresponding amino acid string, as transcribed by this codon table. You do not need to transcribe the stop codon."
   ]
  },
  {
   "cell_type": "code",
   "execution_count": 14,
   "id": "56c4fd94",
   "metadata": {},
   "outputs": [],
   "source": [
    "import itertools\n",
    "\n",
    "genetic_code = {\n",
    "    'UUU': 'F', 'UUC': 'F', 'UUA': 'L', 'UUG': 'L', 'CUU': 'L', 'CUC': 'L', 'CUA': 'L', 'CUG': 'L',\n",
    "    'AUU': 'I', 'AUC': 'I', 'AUA': 'I', 'AUG': 'M', 'GUU': 'V', 'GUC': 'V', 'GUA': 'V', 'GUG': 'V',\n",
    "    'UCU': 'S', 'UCC': 'S', 'UCA': 'S', 'UCG': 'S', 'CCU': 'P', 'CCC': 'P', 'CCA': 'P', 'CCG': 'P',\n",
    "    'ACU': 'T', 'ACC': 'T', 'ACA': 'T', 'ACG': 'T', 'GCU': 'A', 'GCC': 'A', 'GCA': 'A', 'GCG': 'A',\n",
    "    'UAU': 'Y', 'UAC': 'Y', 'UAA': 'Stop', 'UAG': 'Stop', 'CAU': 'H', 'CAC': 'H', 'CAA': 'Q', 'CAG': 'Q',\n",
    "    'AAU': 'N', 'AAC': 'N', 'AAA': 'K', 'AAG': 'K', 'GAU': 'D', 'GAC': 'D', 'GAA': 'E', 'GAG': 'E',\n",
    "    'UGU': 'C', 'UGC': 'C', 'UGA': 'Stop', 'UGG': 'W', 'CGU': 'R', 'CGC': 'R', 'CGA': 'R', 'CGG': 'R',\n",
    "    'AGU': 'S', 'AGC': 'S', 'AGA': 'R', 'AGG': 'R', 'GGU': 'G', 'GGC': 'G', 'GGA': 'G', 'GGG': 'G',\n",
    "}\n",
    "def rna2codon(rna):\n",
    "    codon = []\n",
    "    for i in range(0, len(rna), 3):\n",
    "    \tif genetic_code[rna[i:i+3]] == 'Stop':\n",
    "    \t\tbreak\n",
    "    \tcodon.append(genetic_code[rna[i:i+3]])\n",
    "    return ''.join(codon)"
   ]
  },
  {
   "cell_type": "code",
   "execution_count": 15,
   "id": "891dd96a",
   "metadata": {},
   "outputs": [
    {
     "name": "stdout",
     "output_type": "stream",
     "text": [
      "Success!\n"
     ]
    }
   ],
   "source": [
    "test_cases={\"AUGGCCAUGGCGCCCAGAACUGAGAUCAAUAGUACCCGUAUUAACGGGUGA\":\"MAMAPRTEINSTRING\"}\n",
    "test(test_cases,rna2codon)"
   ]
  },
  {
   "cell_type": "markdown",
   "id": "8f93a9e7",
   "metadata": {},
   "source": [
    "### Function 8: locate_substring(dna_snippet, dna)\n",
    "This function should accept two strings, dna_snippet and dna, where dna_snippet is a substring of dna, and return all locations of the substring as a list of integers. In other words, dna_snippet may exist in multiple locations within dna; you should return the beginning index position of each occurrence of dna_snippet inside of dna."
   ]
  },
  {
   "cell_type": "code",
   "execution_count": 16,
   "id": "84144fcb",
   "metadata": {},
   "outputs": [],
   "source": [
    "def locate_substring(dna_snippet, dna):\n",
    "    return [\n",
    "        i for i in range(len(dna)-len(dna_snippet))\n",
    "        if dna[i:i+len(dna_snippet)] == dna_snippet\n",
    "    ]"
   ]
  },
  {
   "cell_type": "code",
   "execution_count": 17,
   "id": "a50eb09a",
   "metadata": {},
   "outputs": [
    {
     "name": "stdout",
     "output_type": "stream",
     "text": [
      "Success!\n"
     ]
    }
   ],
   "source": [
    "test_cases = {(\"ATAT\",\"GATATATGCATATACTT\"):[1,3,9]}\n",
    "test(test_cases,locate_substring)\n"
   ]
  },
  {
   "cell_type": "markdown",
   "id": "406fef69",
   "metadata": {},
   "source": [
    "### Function 9: hamming_dist(dna1, dna2)\n",
    "This function should accept two strings representing DNA sequences of equal length and return the Hamming distance between the two strings as an integer. The Hamming distance refers to the number of corresponding symbols in the same position that differ between two sequences. In other words, you should find the number of differences between two DNA sequences."
   ]
  },
  {
   "cell_type": "code",
   "execution_count": 18,
   "id": "22f3c477",
   "metadata": {},
   "outputs": [],
   "source": [
    "def hamming_dist(dna1, dna2):\n",
    "    return sum( dna2[i] != dna1[i] for i in range(0,len(dna1)))"
   ]
  },
  {
   "cell_type": "code",
   "execution_count": 19,
   "id": "df71f0c2",
   "metadata": {},
   "outputs": [
    {
     "name": "stdout",
     "output_type": "stream",
     "text": [
      "Success!\n"
     ]
    }
   ],
   "source": [
    "test_cases = {(\"GAGCCTACTAACGGGAT\",\"CATCGTAATGACGGCCT\"):7}\n",
    "test(test_cases,hamming_dist)"
   ]
  },
  {
   "cell_type": "markdown",
   "id": "60392426",
   "metadata": {},
   "source": [
    "### Function 10: count_dom_phenotype(genotypes)\n",
    "This function should accept a list of six nonnegative integers corresponding to the number of couples in a population possessing a specific genotype pairing, such as AA-AA (both homozygous dominant) or Aa-aa (heterozygous and homozygous recessive). The list of integers represent the number of couples having the following genotypes, in this order: \n",
    "\n",
    "1.AA-AA  \n",
    "2.AA-Aa  \n",
    "3.AA-aa  \n",
    "4.Aa-Aa  \n",
    "5.Aa-aa  \n",
    "6.aa-aa  \n",
    "\n",
    "The function should return the expected number of offspring displaying the dominant phenotype in the next generation, assuming that every couple has exactly two offspring."
   ]
  },
  {
   "cell_type": "code",
   "execution_count": 20,
   "id": "dc2f93af",
   "metadata": {},
   "outputs": [],
   "source": [
    "def count_dom_phenotype(genotypes):\n",
    "    offspring = 0\n",
    "\n",
    "    for i in range(len(genotypes)):\n",
    "\n",
    "        if i == 0:\n",
    "            offspring = (genotypes[0]*2*1)\n",
    "        elif i == 1:\n",
    "            offspring += (genotypes[1]*2*1)\n",
    "        elif i == 2:\n",
    "            offspring += (genotypes[2]*2*1)\n",
    "        elif i == 3:\n",
    "            offspring += (genotypes[3]*2*0.75)\n",
    "        elif i == 4:\n",
    "            offspring += (genotypes[4]*2*0.5)\n",
    "        elif i == 5:\n",
    "            offspring += (genotypes[4]*2*0)\n",
    "        else:\n",
    "            return print('String is too long')\n",
    "    return offspring\n",
    "\n"
   ]
  },
  {
   "cell_type": "markdown",
   "id": "95ce69ce",
   "metadata": {},
   "source": [
    "### Function 11: source_rna(protein)\n",
    "This function should accept a string representing a sequence of proteins and returns the total number of different source RNA strings, modulo 1,000,000. Essentially, you are calculating how many strands of mRNA from which this particular protein could have been translated. (HINT: You'll want to use or manipulate the codon table from rna2codon().)"
   ]
  },
  {
   "cell_type": "code",
   "execution_count": 21,
   "id": "5d40be98",
   "metadata": {},
   "outputs": [],
   "source": [
    "from functools import reduce\n",
    "def source_rna(protein):\n",
    "    #insert your code here\n",
    "    genetic_code = {\n",
    "    'UUU': 'F', 'UUC': 'F', 'UUA': 'L', 'UUG': 'L', 'CUU': 'L', 'CUC': 'L', 'CUA': 'L', 'CUG': 'L',\n",
    "    'AUU': 'I', 'AUC': 'I', 'AUA': 'I', 'AUG': 'M', 'GUU': 'V', 'GUC': 'V', 'GUA': 'V', 'GUG': 'V',\n",
    "    'UCU': 'S', 'UCC': 'S', 'UCA': 'S', 'UCG': 'S', 'CCU': 'P', 'CCC': 'P', 'CCA': 'P', 'CCG': 'P',\n",
    "    'ACU': 'T', 'ACC': 'T', 'ACA': 'T', 'ACG': 'T', 'GCU': 'A', 'GCC': 'A', 'GCA': 'A', 'GCG': 'A',\n",
    "    'UAU': 'Y', 'UAC': 'Y', 'UAA': 'Stop', 'UAG': 'Stop', 'CAU': 'H', 'CAC': 'H', 'CAA': 'Q', 'CAG': 'Q',\n",
    "    'AAU': 'N', 'AAC': 'N', 'AAA': 'K', 'AAG': 'K', 'GAU': 'D', 'GAC': 'D', 'GAA': 'E', 'GAG': 'E',\n",
    "    'UGU': 'C', 'UGC': 'C', 'UGA': 'Stop', 'UGG': 'W', 'CGU': 'R', 'CGC': 'R', 'CGA': 'R', 'CGG': 'R',\n",
    "    'AGU': 'S', 'AGC': 'S', 'AGA': 'R', 'AGG': 'R', 'GGU': 'G', 'GGC': 'G', 'GGA': 'G', 'GGG': 'G',\n",
    "} \n",
    "    rna = []\n",
    "    for i in protein:\n",
    "        rna.append(\n",
    "            [v for v,k in genetic_code.items() \n",
    "            if k==i]\n",
    "            )\n",
    "    rna.append([v for v,k in genetic_code.items() if k == 'Stop'])\n",
    "    return reduce(lambda x,y: x*y,[len(i) for i in rna])"
   ]
  },
  {
   "cell_type": "code",
   "execution_count": 22,
   "id": "eb1622af",
   "metadata": {},
   "outputs": [
    {
     "data": {
      "text/plain": [
       "48"
      ]
     },
     "execution_count": 22,
     "metadata": {},
     "output_type": "execute_result"
    }
   ],
   "source": [
    "source_rna('MA')\n",
    "source_rna('CMDA')"
   ]
  },
  {
   "cell_type": "code",
   "execution_count": 23,
   "id": "460be049",
   "metadata": {},
   "outputs": [],
   "source": [
    "def count_dom_phenotype(genotypes):\n",
    "    offspring = 0\n",
    "\n",
    "    for i in range(len(genotypes)):\n",
    "\n",
    "        if i == 0:\n",
    "            offspring = (genotypes[0]*2*1)\n",
    "        elif i == 1:\n",
    "            offspring += (genotypes[1]*2*1)\n",
    "        elif i == 2:\n",
    "            offspring += (genotypes[2]*2*1)\n",
    "        elif i == 3:\n",
    "            offspring += (genotypes[3]*2*0.75)\n",
    "        elif i == 4:\n",
    "            offspring += (genotypes[4]*2*0.5)\n",
    "        elif i == 5:\n",
    "            offspring += (genotypes[4]*2*0)\n",
    "        else:\n",
    "            return print('String is too long')\n",
    "    return offspring"
   ]
  },
  {
   "cell_type": "markdown",
   "id": "c2382324",
   "metadata": {},
   "source": [
    "### Function 12: splice_rna(dna, intron_list)\n",
    "This function should accept a string representing a DNA sequence and a list of strings representing introns. The process of transcribing DNA into RNA involves translating the DNA to RNA and then performing RNA splicing, where the sequence is chopped into smaller segments called introns and exons. Introns are segments of the gene not used for protein translation, so they should be removed from the sequence. Exons are the remaining segments, which are then transcribed sequentially into a protein string. splice_rna() should return a protein string that results from transcribing and translating the exons of the given string."
   ]
  },
  {
   "cell_type": "code",
   "execution_count": 24,
   "id": "3337ac8a",
   "metadata": {},
   "outputs": [],
   "source": [
    "def splice_rna(dna, intron_list):\n",
    "    for i in intron_list:\n",
    "        dna = dna.replace(i,\"\")\n",
    "        \n",
    "    rna = dna.replace(\"T\",\"U\")\n",
    "    return rna2codon(rna)"
   ]
  },
  {
   "cell_type": "code",
   "execution_count": 25,
   "id": "7256d073",
   "metadata": {},
   "outputs": [
    {
     "data": {
      "text/plain": [
       "'MVYIADKQHVASREAYGHMFKVCA*'"
      ]
     },
     "execution_count": 25,
     "metadata": {},
     "output_type": "execute_result"
    }
   ],
   "source": [
    "dna = \"ATGGTCTACATAGCTGACAAACAGCACGTAGCAATCGGTCGAATCTCGAGAGGCATATGGTCACATGATCGGTCGAGCGTGTTTCAAAGTTTGCGCCTAG\"\n",
    "intron_list = [\"ATCGGTCGAA\", \"ATCGGTCGAGCGTGT\"]\n",
    "splice_rna(dna, intron_list)\n",
    "\"MVYIADKQHVASREAYGHMFKVCA*\""
   ]
  },
  {
   "cell_type": "markdown",
   "id": "5973e8ca",
   "metadata": {},
   "source": [
    "# Milestone2 \n",
    "### function starts here"
   ]
  },
  {
   "cell_type": "code",
   "execution_count": 26,
   "id": "3bd91b05",
   "metadata": {},
   "outputs": [],
   "source": [
    "def find_splice(dna_motif,dna):\n",
    "    j = 0\n",
    "    splice = []\n",
    "    for i in range(len(dna)):\n",
    "        if j >= len(dna_motif):\n",
    "            break\n",
    "        if dna[i] == dna_motif[j]:\n",
    "            splice.append(i)\n",
    "            j +=1\n",
    "    if [dna[j] for j in splice] != [i for i in dna_motif]:\n",
    "        splice = []\n",
    "    return splice\n",
    "                "
   ]
  },
  {
   "cell_type": "code",
   "execution_count": 27,
   "id": "c547bcad",
   "metadata": {},
   "outputs": [
    {
     "name": "stdout",
     "output_type": "stream",
     "text": [
      "Success!\n"
     ]
    }
   ],
   "source": [
    "test_cases = {(\"GTA\",\"ACGACATCACGTGACG\"):[2,6,8], \n",
    "              (\"GCT\",\"TGCATGCATGCATGCA\"):[1,2,4], \n",
    "              (\"TTA\",\"TTTGTCTAGTGGGCGACTCGCCCAATAGACAACGGTTT\"):[0, 1, 7],\n",
    "              (\"GG\",\"AGCTTTTCATTCTGACTGCAACGGGCAATA\"):[1,13],\n",
    "              (\"CAGATTGT\",\"TTTGTCTAGTGGGCGACTCGCCCAATAGACAACGGTTT\"):[5, 7, 8, 15, 17,25, 27, 35],\n",
    "              (\"GTCTAAAAC\",\"TGCATGCATGCACCCA\"):[]\n",
    "}\n",
    "test(test_cases,find_splice)"
   ]
  },
  {
   "cell_type": "code",
   "execution_count": 28,
   "id": "7e582ae8",
   "metadata": {},
   "outputs": [],
   "source": [
    "#succeed all tests\n",
    "def shared_motif(dna_list):\n",
    "    \n",
    "    s = dna_list[0]\n",
    "    shared = ''\n",
    "    \n",
    "    for i in range(len(s)):\n",
    "        for j in range(i+1,len(s)+1):\n",
    "            stem = s[i:j]\n",
    "            k = 1\n",
    "            for k in range(1,len(dna_list)):\n",
    "                if stem not in dna_list[k]:\n",
    "                    break\n",
    "                if (k+1 == len(dna_list) and len(shared) < len(stem)):\n",
    "                    shared = stem\n",
    "                \n",
    "    return shared"
   ]
  },
  {
   "cell_type": "code",
   "execution_count": 29,
   "id": "f3acbc46",
   "metadata": {},
   "outputs": [
    {
     "data": {
      "text/plain": [
       "''"
      ]
     },
     "execution_count": 29,
     "metadata": {},
     "output_type": "execute_result"
    }
   ],
   "source": [
    "#test_case = {[\"GATTACA\", \"TAGACCA\", \"ATACA\"]:\"TA\",\n",
    " #            [\"ATATACA\", \"ATACAGA\", \"GGTATACA\"]:\"ATACA\"}\n",
    "#test(test_cases,shared_motif)\n",
    "shared_motif([\"GATTACA\", \"TAGACCA\", \"ATACA\"])\n",
    "shared_motif([\"ATATACA\", \"ATACAGA\", \"GGTATACA\"])\n",
    "shared_motif([\"TAGCA\", \"TAGTGGGCGA\", \"CTCTGTGTAGGAT\"])\n",
    "shared_motif([\"CTCGCCCAATAGAGCAACG\", \"AAGAGTGTCTGA\"])\n",
    "shared_motif([\"GCCAATATGTCTC\", \"TCGCCCA\",\"AGCCTTTTCATTCTGA\"])\n",
    "shared_motif([\"ACAGACCGGGTATCATGCGATTAGAATTCAGATCATTAGGACAGGATAGCACATCATGATACCATAGGTCGT\",\"AGAATTCAGATCATTAGGACAGGATAGC\",\"CATAGCTGTTCCATAGATACAAGAATTCAGATCATTAGGACAGGATAGCTAGGCTAGATATAGGATGATACCATAGAGGGCTGTC\"])\n",
    "shared_motif([\"AGAGAGAGAGAGAGAGAGAGAGAGAGAGAGAGA\",\n",
    "\"CGCGCGCG\", \"TTTTTTTT\", \"CGCGCG\"])"
   ]
  },
  {
   "cell_type": "code",
   "execution_count": 53,
   "id": "1421fe02",
   "metadata": {},
   "outputs": [],
   "source": [
    "def get_edges(DNA_dict):\n",
    "    edges = []\n",
    "    dict_reverse = {v:k for k,v in DNA_dict.items()}\n",
    "    for i in DNA_dict.values():\n",
    "        for j in DNA_dict.values():\n",
    "            if i == j:\n",
    "                continue\n",
    "            if i[-3:] == j[0:3]:\n",
    "                edges.append((dict_reverse[i],dict_reverse[j]))\n",
    "    return edges"
   ]
  },
  {
   "cell_type": "code",
   "execution_count": 57,
   "id": "94f9b006",
   "metadata": {},
   "outputs": [
    {
     "data": {
      "text/plain": [
       "[('Rosalind_0498', 'Rosalind_5520'),\n",
       " ('Rosalind_2456', 'Rosalind_3219'),\n",
       " ('Rosalind_1234', 'Rosalind_0498'),\n",
       " ('Rosalind_1234', 'Rosalind_5520')]"
      ]
     },
     "execution_count": 57,
     "metadata": {},
     "output_type": "execute_result"
    }
   ],
   "source": [
    "get_edges({\n",
    "  \"Rosalind_0498\" : \"AAATAAA\",\n",
    "  \"Rosalind_2391\" : \"AAATTTT\",\n",
    "  \"Rosalind_2323\" : \"TTTTCCC\",\n",
    "  \"Rosalind_0442\" : \"AAATCCC\",\n",
    "  \"Rosalind_5013\" : \"GGGTGGG\"\n",
    "})\n",
    "get_edges({\"Rosalind_0498\" : \"AAATAAA\",\n",
    "\"Rosalind_2456\" : \"ATATCCC\",\n",
    "\"Rosalind_1234\" : \"TCGAAA\",\n",
    "\"Rosalind_5520\" : \"AAACGGG\",\n",
    "\"Rosalind_3219\" : \"CCCACAC\"}\n",
    ")\n",
    "\n",
    "\n"
   ]
  },
  {
   "cell_type": "code",
   "execution_count": null,
   "id": "76ad9b3c",
   "metadata": {},
   "outputs": [],
   "source": []
  },
  {
   "cell_type": "code",
   "execution_count": null,
   "id": "1906356f",
   "metadata": {},
   "outputs": [],
   "source": []
  },
  {
   "cell_type": "code",
   "execution_count": null,
   "id": "6a35464a",
   "metadata": {},
   "outputs": [],
   "source": []
  },
  {
   "cell_type": "code",
   "execution_count": null,
   "id": "6b5f9dd5",
   "metadata": {},
   "outputs": [],
   "source": []
  },
  {
   "cell_type": "code",
   "execution_count": null,
   "id": "da14a924",
   "metadata": {},
   "outputs": [],
   "source": []
  },
  {
   "cell_type": "code",
   "execution_count": null,
   "id": "da533c00",
   "metadata": {},
   "outputs": [],
   "source": []
  },
  {
   "cell_type": "code",
   "execution_count": null,
   "id": "4acb2104",
   "metadata": {},
   "outputs": [],
   "source": []
  },
  {
   "cell_type": "code",
   "execution_count": null,
   "id": "9642b69b",
   "metadata": {},
   "outputs": [],
   "source": []
  },
  {
   "cell_type": "code",
   "execution_count": null,
   "id": "585f27bd",
   "metadata": {},
   "outputs": [],
   "source": []
  },
  {
   "cell_type": "code",
   "execution_count": null,
   "id": "a3c19f24",
   "metadata": {},
   "outputs": [],
   "source": []
  },
  {
   "cell_type": "code",
   "execution_count": null,
   "id": "05ecb6a4",
   "metadata": {},
   "outputs": [],
   "source": []
  },
  {
   "cell_type": "code",
   "execution_count": null,
   "id": "669199c5",
   "metadata": {},
   "outputs": [],
   "source": []
  }
 ],
 "metadata": {
  "kernelspec": {
   "display_name": "Python 3 (ipykernel)",
   "language": "python",
   "name": "python3"
  },
  "language_info": {
   "codemirror_mode": {
    "name": "ipython",
    "version": 3
   },
   "file_extension": ".py",
   "mimetype": "text/x-python",
   "name": "python",
   "nbconvert_exporter": "python",
   "pygments_lexer": "ipython3",
   "version": "3.8.5"
  }
 },
 "nbformat": 4,
 "nbformat_minor": 5
}
