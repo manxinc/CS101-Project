{
 "cells": [
  {
   "cell_type": "code",
   "execution_count": 4,
   "id": "eef4c55b",
   "metadata": {},
   "outputs": [],
   "source": [
    "import math"
   ]
  },
  {
   "cell_type": "code",
   "execution_count": 6,
   "id": "961c43da",
   "metadata": {},
   "outputs": [],
   "source": [
    "f = 12      #operating frequency [GHz]\n",
    "z = 0.55    #transmit efficiency [-]\n",
    "d = 3       #transmit diameter [m]\n",
    "p_t = 6      #transmit power [W]\n",
    "p_sens = -108 #receiver sensitivity [dBW]"
   ]
  },
  {
   "cell_type": "code",
   "execution_count": 7,
   "id": "a39567a0",
   "metadata": {},
   "outputs": [
    {
     "name": "stdout",
     "output_type": "stream",
     "text": [
      "78167.63243519998\n",
      "48.93026958114217\n"
     ]
    }
   ],
   "source": [
    "g_t = z*(10.472*f*d)**2\n",
    "print(g_t)\n",
    "g_t_db = 10*math.log10(g_t)\n",
    "print(g_t_db)"
   ]
  },
  {
   "cell_type": "code",
   "execution_count": 8,
   "id": "eef9a676",
   "metadata": {},
   "outputs": [
    {
     "name": "stdout",
     "output_type": "stream",
     "text": [
      "eirp: 56.71178208497861\n"
     ]
    }
   ],
   "source": [
    "p_t_db = 10*math.log10(p_t)\n",
    "eirp = p_t_db + g_t_db\n",
    "print('eirp: ' + str(eirp))"
   ]
  },
  {
   "cell_type": "code",
   "execution_count": 9,
   "id": "2dcbdc27",
   "metadata": {},
   "outputs": [
    {
     "name": "stdout",
     "output_type": "stream",
     "text": [
      "lp: 166.55140352195875\n"
     ]
    }
   ],
   "source": [
    "r = 425 #transmit distance [km]\n",
    "c = 299792458 #speed of light [m/s]\n",
    "l_p = 92.4 + 20*math.log10(f) + 20*math.log10(r)\n",
    "print('lp: '+str(l_p))"
   ]
  },
  {
   "cell_type": "code",
   "execution_count": 10,
   "id": "c7435b14",
   "metadata": {},
   "outputs": [
    {
     "name": "stdout",
     "output_type": "stream",
     "text": [
      "-109.83962143698014\n"
     ]
    }
   ],
   "source": [
    "p_r = eirp - l_p\n",
    "print(p_r)"
   ]
  },
  {
   "cell_type": "code",
   "execution_count": 11,
   "id": "b642b5c7",
   "metadata": {},
   "outputs": [
    {
     "name": "stdout",
     "output_type": "stream",
     "text": [
      "-1.8396214369801385\n",
      "0.6546932394592059\n"
     ]
    }
   ],
   "source": [
    "g_r_req = p_r - p_sens\n",
    "print(g_r_req)\n",
    "g_r_mag = 10**(g_r_req/10)\n",
    "print(g_r_mag)"
   ]
  },
  {
   "cell_type": "code",
   "execution_count": 12,
   "id": "848e1658",
   "metadata": {},
   "outputs": [
    {
     "name": "stdout",
     "output_type": "stream",
     "text": [
      "0.008682138385322433\n"
     ]
    }
   ],
   "source": [
    "d_r = ((g_r_mag/z)**(1/2))/(10.472*f)\n",
    "print(d_r)"
   ]
  },
  {
   "cell_type": "code",
   "execution_count": 21,
   "id": "5113c7e8",
   "metadata": {},
   "outputs": [
    {
     "name": "stdout",
     "output_type": "stream",
     "text": [
      "1.5310874616820382\n"
     ]
    }
   ],
   "source": [
    "y = -108 -56.7 +166.55\n",
    "gr = 10**(y/10)\n",
    "print (gr)"
   ]
  },
  {
   "cell_type": "code",
   "execution_count": 23,
   "id": "1bbc1809",
   "metadata": {},
   "outputs": [
    {
     "name": "stdout",
     "output_type": "stream",
     "text": [
      "0.013277239083116805\n"
     ]
    }
   ],
   "source": [
    "r =( math.sqrt((gr/0.55)))/(10.472*12)\n",
    "print(r)"
   ]
  }
 ],
 "metadata": {
  "kernelspec": {
   "display_name": "Python 3 (ipykernel)",
   "language": "python",
   "name": "python3"
  },
  "language_info": {
   "codemirror_mode": {
    "name": "ipython",
    "version": 3
   },
   "file_extension": ".py",
   "mimetype": "text/x-python",
   "name": "python",
   "nbconvert_exporter": "python",
   "pygments_lexer": "ipython3",
   "version": "3.8.5"
  }
 },
 "nbformat": 4,
 "nbformat_minor": 5
}
