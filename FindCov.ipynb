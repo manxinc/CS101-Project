{
 "cells": [
  {
   "cell_type": "code",
   "execution_count": 12,
   "id": "5cf049b2",
   "metadata": {},
   "outputs": [],
   "source": [
    "import cv2\n",
    "import numpy as np"
   ]
  },
  {
   "cell_type": "code",
   "execution_count": 23,
   "id": "f53b26bc",
   "metadata": {},
   "outputs": [
    {
     "data": {
      "text/plain": [
       "-1"
      ]
     },
     "execution_count": 23,
     "metadata": {},
     "output_type": "execute_result"
    }
   ],
   "source": [
    "img_experiment = cv2.imread(\"picture3.jpg\")\n",
    "cv2.namedWindow('image')\n",
    "cv2.imshow(\"image\",img_experiment)\n",
    "cv2.waitKey(0)"
   ]
  },
  {
   "cell_type": "code",
   "execution_count": 24,
   "id": "3b619643",
   "metadata": {},
   "outputs": [
    {
     "name": "stdout",
     "output_type": "stream",
     "text": [
      "(257, 72, 3)\n"
     ]
    }
   ],
   "source": [
    "print(img_experiment.shape)"
   ]
  },
  {
   "cell_type": "code",
   "execution_count": null,
   "id": "9b96c1b6",
   "metadata": {},
   "outputs": [],
   "source": [
    "data_ex = np.asarray(img_experiment)"
   ]
  },
  {
   "cell_type": "code",
   "execution_count": 19,
   "id": "924d9e8d",
   "metadata": {},
   "outputs": [
    {
     "data": {
      "text/plain": [
       "26.991651851826866"
      ]
     },
     "execution_count": 19,
     "metadata": {},
     "output_type": "execute_result"
    }
   ],
   "source": [
    "cv = lambda x: np.std(x, ddof=1) / np.mean(x) * 100 \n",
    "cv(data_ex)"
   ]
  },
  {
   "cell_type": "code",
   "execution_count": 27,
   "id": "9aa031ab",
   "metadata": {},
   "outputs": [],
   "source": [
    "img_ti5 = cv2.imread(\"Tmax.png\")\n",
    "cv2.imshow(\"Tmax\",img_ti5)\n",
    "cv2.waitKey(0)\n",
    "cv2.destroyAllWindows()"
   ]
  },
  {
   "cell_type": "code",
   "execution_count": 28,
   "id": "82ea6af4",
   "metadata": {},
   "outputs": [
    {
     "name": "stdout",
     "output_type": "stream",
     "text": [
      "(420, 560, 3)\n"
     ]
    }
   ],
   "source": [
    "print(img_ti5.shape)"
   ]
  },
  {
   "cell_type": "code",
   "execution_count": 43,
   "id": "3baffc07",
   "metadata": {},
   "outputs": [],
   "source": [
    "crop = img_ti5[185:220,215:370]\n",
    "cv2.imshow(\"Tmax\",crop)\n",
    "cv2.waitKey(0)\n",
    "cv2.destroyAllWindows()"
   ]
  },
  {
   "cell_type": "code",
   "execution_count": 46,
   "id": "b6ef973c",
   "metadata": {},
   "outputs": [
    {
     "data": {
      "text/plain": [
       "59.37486402862688"
      ]
     },
     "execution_count": 46,
     "metadata": {},
     "output_type": "execute_result"
    }
   ],
   "source": [
    "data_ti5 = np.asarray(crop)\n",
    "cv(data_ti5)"
   ]
  },
  {
   "cell_type": "code",
   "execution_count": 47,
   "id": "caade255",
   "metadata": {},
   "outputs": [],
   "source": [
    "img_ti10 = cv2.imread(\"Tmax_ti10.png\")\n",
    "cv2.imshow(\"Tmax\",img_ti5)\n",
    "cv2.waitKey(0)\n",
    "cv2.destroyAllWindows()"
   ]
  },
  {
   "cell_type": "code",
   "execution_count": 49,
   "id": "ebb0a258",
   "metadata": {},
   "outputs": [],
   "source": [
    "crop_10 = img_ti10[185:220,215:370]\n",
    "cv2.imshow(\"Tmax\",crop_10)\n",
    "cv2.waitKey(0)\n",
    "cv2.destroyAllWindows()"
   ]
  },
  {
   "cell_type": "code",
   "execution_count": 51,
   "id": "28c9c1d5",
   "metadata": {},
   "outputs": [
    {
     "data": {
      "text/plain": [
       "52.9615018532414"
      ]
     },
     "execution_count": 51,
     "metadata": {},
     "output_type": "execute_result"
    }
   ],
   "source": [
    "data_ti10 = np.asarray(crop_10)\n",
    "cv(data_ti10)"
   ]
  },
  {
   "cell_type": "code",
   "execution_count": 52,
   "id": "7b5fb10f",
   "metadata": {},
   "outputs": [],
   "source": [
    "def find_cov(image):\n",
    "    img = cv2.imread(image)\n",
    "    crop = img[185:220,215:370]\n",
    "    data = np.asarray(crop)\n",
    "    cv = lambda x: np.std(x, ddof=1) / np.mean(x) * 100 \n",
    "    return(cv(data))\n",
    "    "
   ]
  },
  {
   "cell_type": "code",
   "execution_count": 53,
   "id": "417d88d7",
   "metadata": {},
   "outputs": [
    {
     "ename": "NameError",
     "evalue": "name 'retrun' is not defined",
     "output_type": "error",
     "traceback": [
      "\u001b[1;31m---------------------------------------------------------------------------\u001b[0m",
      "\u001b[1;31mNameError\u001b[0m                                 Traceback (most recent call last)",
      "\u001b[1;32m~\\AppData\\Local\\Temp/ipykernel_26732/2279056268.py\u001b[0m in \u001b[0;36m<module>\u001b[1;34m\u001b[0m\n\u001b[1;32m----> 1\u001b[1;33m \u001b[0mfind_cov\u001b[0m\u001b[1;33m(\u001b[0m\u001b[1;34m\"Tmax.png\"\u001b[0m\u001b[1;33m)\u001b[0m\u001b[1;33m\u001b[0m\u001b[1;33m\u001b[0m\u001b[0m\n\u001b[0m",
      "\u001b[1;32m~\\AppData\\Local\\Temp/ipykernel_26732/2557879496.py\u001b[0m in \u001b[0;36mfind_cov\u001b[1;34m(image)\u001b[0m\n\u001b[0;32m      4\u001b[0m     \u001b[0mdata\u001b[0m \u001b[1;33m=\u001b[0m \u001b[0mnp\u001b[0m\u001b[1;33m.\u001b[0m\u001b[0masarray\u001b[0m\u001b[1;33m(\u001b[0m\u001b[0mcrop\u001b[0m\u001b[1;33m)\u001b[0m\u001b[1;33m\u001b[0m\u001b[1;33m\u001b[0m\u001b[0m\n\u001b[0;32m      5\u001b[0m     \u001b[0mcv\u001b[0m \u001b[1;33m=\u001b[0m \u001b[1;32mlambda\u001b[0m \u001b[0mx\u001b[0m\u001b[1;33m:\u001b[0m \u001b[0mnp\u001b[0m\u001b[1;33m.\u001b[0m\u001b[0mstd\u001b[0m\u001b[1;33m(\u001b[0m\u001b[0mx\u001b[0m\u001b[1;33m,\u001b[0m \u001b[0mddof\u001b[0m\u001b[1;33m=\u001b[0m\u001b[1;36m1\u001b[0m\u001b[1;33m)\u001b[0m \u001b[1;33m/\u001b[0m \u001b[0mnp\u001b[0m\u001b[1;33m.\u001b[0m\u001b[0mmean\u001b[0m\u001b[1;33m(\u001b[0m\u001b[0mx\u001b[0m\u001b[1;33m)\u001b[0m \u001b[1;33m*\u001b[0m \u001b[1;36m100\u001b[0m\u001b[1;33m\u001b[0m\u001b[1;33m\u001b[0m\u001b[0m\n\u001b[1;32m----> 6\u001b[1;33m     \u001b[0mretrun\u001b[0m\u001b[1;33m(\u001b[0m\u001b[0mcv\u001b[0m\u001b[1;33m(\u001b[0m\u001b[0mdata\u001b[0m\u001b[1;33m)\u001b[0m\u001b[1;33m)\u001b[0m\u001b[1;33m\u001b[0m\u001b[1;33m\u001b[0m\u001b[0m\n\u001b[0m\u001b[0;32m      7\u001b[0m \u001b[1;33m\u001b[0m\u001b[0m\n",
      "\u001b[1;31mNameError\u001b[0m: name 'retrun' is not defined"
     ]
    }
   ],
   "source": [
    "find_cov(\"Tmax.png\")"
   ]
  }
 ],
 "metadata": {
  "kernelspec": {
   "display_name": "Python 3 (ipykernel)",
   "language": "python",
   "name": "python3"
  },
  "language_info": {
   "codemirror_mode": {
    "name": "ipython",
    "version": 3
   },
   "file_extension": ".py",
   "mimetype": "text/x-python",
   "name": "python",
   "nbconvert_exporter": "python",
   "pygments_lexer": "ipython3",
   "version": "3.8.5"
  }
 },
 "nbformat": 4,
 "nbformat_minor": 5
}
